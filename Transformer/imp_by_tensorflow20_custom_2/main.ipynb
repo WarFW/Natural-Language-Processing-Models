
{
 "cells": [
  {
   "cell_type": "code",
   "execution_count": 7,
   "metadata": {},
   "outputs": [],
   "source": [
    "# !pip install tensorflow_datasets"
   ]
  },
  {
   "cell_type": "code",
   "execution_count": 8,
   "metadata": {},
   "outputs": [],
   "source": [
    "# -*- coding: utf-8 -*-\n",
    "# @Time : 2020/4/22 21:46\n",
    "# @Author : zdqzyx\n",
    "# @File : main.py\n",
    "# @Software: PyCharm\n",
    "import sys\n",
    "sys.path.append('./')\n",
    "\n",
    "import tensorflow_datasets as tfds\n",
    "import tensorflow as tf\n",
    "import time\n",
    "import numpy as np\n",
    "import matplotlib.pyplot as plt\n",
    "from modeling import Transformer\n",
    "import os"
   ]
  },
  {
   "cell_type": "code",
   "execution_count": 9,
   "metadata": {},